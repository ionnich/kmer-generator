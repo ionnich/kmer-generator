{
 "cells": [
  {
   "cell_type": "code",
   "execution_count": 138,
   "metadata": {},
   "outputs": [],
   "source": [
    "class node:\n",
    "    # constructor\n",
    "    def __init__(self) -> None:\n",
    "        self.left = None\n",
    "        self.right = None\n",
    "        self.value = None\n",
    "        self.counter = 0\n",
    "\n",
    "    def _display_aux(self):\n",
    "        \"\"\"Returns list of strings, width, height, and horizontal coordinate of the root.\"\"\"\n",
    "        # No child.\n",
    "        if self.right is None and self.left is None:\n",
    "            line = '%s : %s' % (self.counter, self.value)\n",
    "            width = len(line)\n",
    "            height = 1\n",
    "            middle = width // 2\n",
    "            return [line], width, height, middle\n",
    "\n",
    "        # Only left child.\n",
    "        if self.right is None:\n",
    "            lines, n, p, x = self.left._display_aux()  # type: ignore\n",
    "            s = '%s : %s' % (self.counter, self.value)\n",
    "            u = len(s)\n",
    "            first_line = (x + 1) * ' ' + (n - x - 1) * '_' + s\n",
    "            second_line = x * ' ' + '/' + (n - x - 1 + u) * ' '\n",
    "            shifted_lines = [line + u * ' ' for line in lines]\n",
    "            return [first_line, second_line] + shifted_lines, n + u, p + 2, n + u // 2\n",
    "\n",
    "        # Only right child.\n",
    "        if self.left is None:\n",
    "            lines, n, p, x = self.right._display_aux()\n",
    "            s = '%s : %s' % (self.counter, self.value)\n",
    "            u = len(s)\n",
    "            first_line = s + x * '_' + (n - x) * ' '\n",
    "            second_line = (u + x) * ' ' + '\\\\' + (n - x - 1) * ' '\n",
    "            shifted_lines = [u * ' ' + line for line in lines]\n",
    "            return [first_line, second_line] + shifted_lines, n + u, p + 2, u // 2\n",
    "\n",
    "        # Two children.\n",
    "        left, n, p, x = self.left._display_aux()\n",
    "        right, m, q, y = self.right._display_aux()\n",
    "        s = '%s : %s' % (self.counter, self.value)\n",
    "        u = len(s)\n",
    "        first_line = (x + 1) * ' ' + (n - x - 1) * \\\n",
    "            '_' + s + y * '_' + (m - y) * ' '\n",
    "        second_line = x * ' ' + '/' + \\\n",
    "            (n - x - 1 + u + y) * ' ' + '\\\\' + (m - y - 1) * ' '\n",
    "        if p < q:\n",
    "            left += [n * ' '] * (q - p)\n",
    "        elif q < p:\n",
    "            right += [m * ' '] * (p - q)\n",
    "        zipped_lines = zip(left, right)\n",
    "        lines = [first_line, second_line] + \\\n",
    "            [a + u * ' ' + b for a, b in zipped_lines]\n",
    "        return lines, n + m + u, max(p, q) + 2, n + u // 2\n",
    "\n",
    "    \n"
   ]
  },
  {
   "cell_type": "code",
   "execution_count": 139,
   "metadata": {},
   "outputs": [],
   "source": [
    "def add_node(root, value):\n",
    "\n",
    "    # if root is null, this node must be the root\n",
    "    if root is None:\n",
    "        root = node()\n",
    "        root.value = value\n",
    "        root.counter += 1\n",
    "        return root\n",
    "    # if value is less than root.value go to left nodes\n",
    "    if value < root.value:\n",
    "        # if the left node does not exist\n",
    "        if(root.left is None):\n",
    "            root.left = node()\n",
    "            root.left.value = value\n",
    "            root.left.counter += 1\n",
    "        else:\n",
    "            root.left = add_node(root.left, value)\n",
    "        \n",
    "    if value > root.value:\n",
    "        if(root.right is None):\n",
    "            root.right = node()\n",
    "            root.right.value = value\n",
    "            root.right.counter += 1\n",
    "        else:\n",
    "            root.right = add_node(root.right, value)\n",
    "\n",
    "    if value == root.value:\n",
    "        root.counter += 1\n",
    "\n",
    "    return root"
   ]
  },
  {
   "cell_type": "code",
   "execution_count": 144,
   "metadata": {},
   "outputs": [],
   "source": [
    "# returns the counter of a node\n",
    "def search_value(root, value):\n",
    "\n",
    "    if root is None:\n",
    "        return 0\n",
    "    \n",
    "    if root == value:\n",
    "        return root.counter\n",
    "\n",
    "    if value < root.value:\n",
    "        return search_value(root.left, value)\n",
    "    \n",
    "    if value > root.value:\n",
    "        return search_value(root.right, value)\n",
    "    \n",
    "    # if we are at the bottom of the tree and the value has still not been found, the value must not be within the tree"
   ]
  },
  {
   "cell_type": "code",
   "execution_count": 141,
   "metadata": {},
   "outputs": [],
   "source": [
    "def destroy_tree(root):\n",
    "\n",
    "    # if a left node exists\n",
    "    if root.left is not None:\n",
    "        # recursively destroy the left node\n",
    "        destroy_tree(root.left)\n",
    "\n",
    "    # if a right node exists\n",
    "    if root.right is not None:\n",
    "        # recursively destroy the right node\n",
    "        destroy_tree(root.right)\n",
    "\n",
    "    # delete the root node\n",
    "    del root"
   ]
  },
  {
   "cell_type": "code",
   "execution_count": 142,
   "metadata": {},
   "outputs": [],
   "source": [
    "def create_tree(value):\n",
    "    return add_node(None, value)"
   ]
  },
  {
   "cell_type": "code",
   "execution_count": 143,
   "metadata": {},
   "outputs": [],
   "source": [
    "def show_tree(root):\n",
    "\n",
    "    if(root is None):\n",
    "        return\n",
    "\n",
    "    lines, *_ = root._display_aux()\n",
    "    for line in lines:\n",
    "        print(line)"
   ]
  }
 ],
 "metadata": {
  "kernelspec": {
   "display_name": "Python 3.10.8 64-bit",
   "language": "python",
   "name": "python3"
  },
  "language_info": {
   "codemirror_mode": {
    "name": "ipython",
    "version": 3
   },
   "file_extension": ".py",
   "mimetype": "text/x-python",
   "name": "python",
   "nbconvert_exporter": "python",
   "pygments_lexer": "ipython3",
   "version": "3.10.8"
  },
  "orig_nbformat": 4,
  "vscode": {
   "interpreter": {
    "hash": "b0fa6594d8f4cbf19f97940f81e996739fb7646882a419484c72d19e05852a7e"
   }
  }
 },
 "nbformat": 4,
 "nbformat_minor": 2
}
