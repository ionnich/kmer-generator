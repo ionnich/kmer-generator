{
 "cells": [
  {
   "cell_type": "raw",
   "metadata": {},
   "source": [
    "---\n",
    "title: K-mer distribution table Hash Table\n",
    "description: Generate a k-mer distribution table using a binary search tree\n",
    "show-code: False\n",
    "format:\n",
    "   theme: night\n",
    "params:\n",
    "   dna_string:\n",
    "      input: text\n",
    "      label: input dna_string\n",
    "      value: ACGT\n",
    "   dna_len:\n",
    "      input: numeric\n",
    "      label: input dna_length\n",
    "      value: 100\n",
    "      min: 5\n",
    "      max: 10000000000\n",
    "      step: 10\n",
    "   kmer_size:\n",
    "      input: numeric\n",
    "      label: input kmer_length\n",
    "      value: 7\n",
    "      min: 1\n",
    "      max: 1000\n",
    "      step: 1\n",
    "---"
   ]
  },
  {
   "cell_type": "markdown",
   "metadata": {},
   "source": [
    "Edit the cell below to input your desired values. You can also input values using the input scanner."
   ]
  },
  {
   "cell_type": "code",
   "execution_count": 6,
   "metadata": {},
   "outputs": [],
   "source": [
    "dna_string = \"ACGT\"\n",
    "dna_len = 10**6\n",
    "kmer_size = 5"
   ]
  },
  {
   "cell_type": "code",
   "execution_count": 7,
   "metadata": {},
   "outputs": [],
   "source": [
    "from data_processing import generate_kmers as generator\n",
    "from data_processing import graph_distribution as graph\n",
    "from data_structures import hash_table as hashing\n",
    "from data_processing import distribution_parser as parse\n",
    "\n",
    "import time"
   ]
  },
  {
   "cell_type": "code",
   "execution_count": 8,
   "metadata": {},
   "outputs": [],
   "source": [
    "def generate_table(kmer_list, hashing_function):\n",
    "    \"\"\"\n",
    "    Generates a hash table from a list of kmers and the desired hashing function\n",
    "    \"\"\"\n",
    "    list_len = len(kmer_list)\n",
    "    table = hashing.hash_table(list_len, hashing_function)\n",
    "    for kmer in kmer_list:\n",
    "        table.insert(kmer)\n",
    "\n",
    "    return table"
   ]
  },
  {
   "cell_type": "code",
   "execution_count": 9,
   "metadata": {},
   "outputs": [],
   "source": [
    "def test_hash_table(dna_string, dna_len, kmer_size):\n",
    "    \"\"\"\n",
    "    Utility function to test the hash table\n",
    "    \"\"\"\n",
    "    alphabet = dna_string\n",
    "    if dna_string is None:\n",
    "        alphabet = input(\"Enter the alphabet: \")\n",
    "    \n",
    "    dna_length = dna_len\n",
    "    if dna_len is None:\n",
    "        dna_length = (input(\"Enter the length of the DNA string: \"))\n",
    "        dna_length = parse.parse_math_expression(dna_length) \n",
    "\n",
    "    k_mer = kmer_size\n",
    "    if kmer_size is None:\n",
    "        k_mer = input(\"Enter the length of the kmer: \")\n",
    "        k_mer = parse.parse_math_expression(k_mer)\n",
    "\n",
    "    # generate the DNA sequence\n",
    "    DNA_SEQUENCE = generator.create_dna_sequence(alphabet, dna_length)\n",
    "\n",
    "    # generate the list of k-mers\n",
    "    kmer_list = generator.generate_kmers(DNA_SEQUENCE, k_mer)\n",
    "\n",
    "    # test the mmh3 hashing function\n",
    "    start = time.time()\n",
    "    mmh3_table = generate_table(kmer_list, \"mmh\")\n",
    "    end = time.time()\n",
    "\n",
    "    mmh3_insertion_time = end - start\n",
    "\n",
    "    # test the xxh hashing function\n",
    "    start = time.time()\n",
    "    xxh_table = generate_table(kmer_list, \"xxh\")\n",
    "    end = time.time()\n",
    "\n",
    "    xxh_insertion_time = end - start\n",
    "    # generate the distributions\n",
    "    start = time.time()\n",
    "    mmh3_distribution = parse.parse_table(mmh3_table, kmer_list)\n",
    "    end = time.time()\n",
    "\n",
    "    mmh_parsing_time = end - start\n",
    "\n",
    "    start = time.time()\n",
    "    xxh_distribution = parse.parse_table(xxh_table, kmer_list)\n",
    "    end = time.time()\n",
    "\n",
    "    xxh_parsing_time = end - start\n",
    "\n",
    "    tabulated_data = {\n",
    "        \"Hash Function\": [\"mmh3\", \"xxh\"],\n",
    "        \"Insertion Time\": [mmh3_insertion_time, xxh_insertion_time],\n",
    "        \"Parsing Time\": [mmh_parsing_time, xxh_parsing_time],\n",
    "        \"Collisions\": [mmh3_table.collision_count, xxh_table.collision_count]\n",
    "    }\n",
    "\n",
    "    graph.print_hashing_statistics(tabulated_data, alphabet + str(dna_length) + \" \" + str(k_mer) + \"mers\")\n",
    "    unique_kmers = parse.get_unique_kmers(xxh_distribution)\n",
    "    graph.bar_graph(xxh_distribution)\n",
    "\n",
    "    if len(unique_kmers) == 0:\n",
    "        print(\"No unique k-mers found\")\n",
    "    else:\n",
    "        print(f\"Unique k-mers: {len(unique_kmers)}\")\n",
    "        graph.bar_graph(unique_kmers)\n",
    "\n",
    "    if (len(xxh_distribution) > 100):\n",
    "        print(\"Most common 10% kmers: \")\n",
    "        most_common_kmers = parse.get_most_common_kmers(xxh_distribution, int(len(xxh_distribution) * 0.10))\n",
    "        graph.bar_graph(most_common_kmers)\n",
    "\n",
    "    # the distribution of one is the same as the other\n",
    "    # graph.bar_graph(mmh3_distribution)\n"
   ]
  },
  {
   "cell_type": "code",
   "execution_count": 10,
   "metadata": {},
   "outputs": [
    {
     "name": "stdout",
     "output_type": "stream",
     "text": [
      "+------------------------------------------------------------------------+\n",
      "|                           ACGT1000000 5mers                            |\n",
      "+---------------+--------------------+----------------------+------------+\n",
      "| Hash Function |   Insertion Time   |     Parsing Time     | Collisions |\n",
      "+---------------+--------------------+----------------------+------------+\n",
      "|      mmh3     | 1.2975947856903076 | 0.06290507316589355  |    1935    |\n",
      "|      xxh      | 0.805696964263916  | 0.026388883590698242 |     0      |\n",
      "+---------------+--------------------+----------------------+------------+\n"
     ]
    },
    {
     "data": {
      "application/vnd.plotly.v1+json": {
       "config": {
        "plotlyServerURL": "https://plot.ly"
       },
       "data": [
        {
         "type": "bar",
         "x": [
          "GCCGC",
          "TTTGT",
          "GCCGG",
          "TAGCA",
          "GGTTG",
          "TACGG",
          "CCCCA",
          "GATGT",
          "CACTA",
          "CGTTA",
          "CACCA",
          "ACGAG",
          "TGCAA",
          "AAATC",
          "AGATA",
          "CGCAT",
          "GGGTA",
          "GTCAG",
          "AGGTG",
          "TACCA",
          "TGGAG",
          "TTTAT",
          "CACGG",
          "TATTC",
          "TAATT",
          "AGCGA",
          "AGTTA",
          "TGTTT",
          "GCGAT",
          "TTTGG",
          "ACCTC",
          "TTCAT",
          "TGCGA",
          "ATCGA",
          "GAATA",
          "GTGAG",
          "GCTTG",
          "CAGGT",
          "AACCC",
          "GGCAC",
          "AAACT",
          "GGATT",
          "CTGTC",
          "TCTAT",
          "TTACC",
          "CCGAT",
          "ACAGA",
          "ACTAT",
          "CGGTT",
          "CTTGT",
          "ACTTT",
          "CTTTT",
          "TTAAA",
          "CTCAT",
          "GTCTA",
          "GCTGG",
          "CCAAG",
          "TTGGC",
          "AGCAA",
          "GTTGA",
          "CAAAT",
          "CACCC",
          "GCAGG",
          "GTGTC",
          "ACCTA",
          "TTCAC",
          "GCTAT",
          "CTAGT",
          "TTGGG",
          "TCAGG",
          "CAATA",
          "ACGGT",
          "CATGC",
          "GATAC",
          "TGGCT",
          "GCGTC",
          "ATTTC",
          "GGTAC",
          "CGTCA",
          "CTATA",
          "GAACG",
          "GCGGG",
          "ATCGC",
          "AGCTG",
          "CAACG",
          "ATAAG",
          "AGTCC",
          "GTTTC",
          "AAAAC",
          "GCACC",
          "ACATT",
          "CTGGA",
          "CTGTT",
          "GCTCA",
          "ATTCC",
          "CCCTG",
          "GTGGA",
          "TCCCA",
          "AATGG",
          "CTCAA",
          "CTATG",
          "TCAAG",
          "AGCTA",
          "CGTCG",
          "GGAGC",
          "CCTCA",
          "GTCGT",
          "CGTAC",
          "GACAT",
          "GGGGG",
          "AGGTC",
          "TAGGG",
          "TCGCA",
          "CCTCG",
          "ATACA",
          "TTTAA",
          "AACGA",
          "TGCCA",
          "GTGTA",
          "AATAT",
          "ATCGT",
          "CCATG",
          "TGACC",
          "ATGGG",
          "AATAC",
          "AAATT",
          "GGCGA",
          "CCTCC",
          "TGGAA",
          "CGAGA",
          "TCCAA",
          "CTAGA",
          "TCTCG",
          "TGAAG",
          "CACTG",
          "TTTTT",
          "AGGAA",
          "TTAAT",
          "ACAAG",
          "GGGGA",
          "CATGA",
          "GGTGG",
          "TTATA",
          "CCACG",
          "AGCGC",
          "TCGAG",
          "TAATC",
          "TCCGG",
          "CCAAT",
          "TTTGA",
          "TGAAC",
          "ACACG",
          "ACGTA",
          "ACACT",
          "TCAGT",
          "CAAGT",
          "CGTAG",
          "CCCTA",
          "GGCGC",
          "GCCAC",
          "TCCCG",
          "AATCC",
          "ACAAT",
          "CGACT",
          "GGTCT",
          "TCCCT",
          "CCGCC",
          "AATTC",
          "TGGCC",
          "CTGTG",
          "CCCCT",
          "TAGAG",
          "AATTA",
          "CCCAG",
          "CTCGT",
          "TATGG",
          "TGTCG",
          "GTACG",
          "GTTTA",
          "TCTTA",
          "TCACG",
          "CATAT",
          "AATCT",
          "TTACA",
          "CTTGC",
          "CGACA",
          "AACTG",
          "TAATA",
          "CAGTG",
          "CCTGG",
          "ATTAC",
          "AATAG",
          "GAGCT",
          "CGACC",
          "GAGAT",
          "CGATC",
          "ACTAG",
          "GGATG",
          "CGGGT",
          "GGCGG",
          "CCACA",
          "AAAAG",
          "CCAAA",
          "GTTCG",
          "CCCAC",
          "GAGAG",
          "CCGGC",
          "ACAGT",
          "AGTGG",
          "CGTAA",
          "CAATG",
          "ACATC",
          "ATATT",
          "ATCTC",
          "CATAA",
          "AATAA",
          "GATCG",
          "GTGTG",
          "CATTC",
          "GGGAT",
          "TAGCG",
          "GGAGA",
          "ATATA",
          "GACAG",
          "CCTAC",
          "CACAC",
          "ATCTT",
          "ACGAA",
          "ACCAC",
          "TGTGT",
          "CATAC",
          "CCGGT",
          "GGTAA",
          "TGGTA",
          "TGCAC",
          "GAACA",
          "CTGGG",
          "GAGCG",
          "CCATT",
          "AACCG",
          "TCATA",
          "TCGTC",
          "CCGTC",
          "CCAGT",
          "GTAAG",
          "AGCGT",
          "CCGCT",
          "CCGTG",
          "TCATG",
          "TTAAC",
          "TTGTT",
          "ATCAT",
          "CGCTT",
          "AAGCT",
          "ATCCA",
          "CGGTG",
          "GATGG",
          "ACGAT",
          "TATTA",
          "CCTTG",
          "TTGAT",
          "CACCT",
          "CCTGA",
          "ATGAC",
          "TATAC",
          "TGGGG",
          "AACTA",
          "TCCTG",
          "ATTAG",
          "GGTCG",
          "GAGGA",
          "CCGGG",
          "ACGGG",
          "GGCGT",
          "GTCCA",
          "CATGT",
          "TTCGA",
          "GACCG",
          "GCCCA",
          "TGAGC",
          "GCCGA",
          "AACAG",
          "GGGGT",
          "GAAAC",
          "TGTTA",
          "GACCT",
          "TCCAC",
          "ATCTA",
          "CTTCG",
          "TCAGC",
          "ATTGT",
          "CTTTG",
          "TGTCA",
          "ACGGC",
          "TACTG",
          "TTCAA",
          "GACCC",
          "TACTA",
          "GAATC",
          "TCTTT",
          "TTGTA",
          "TCTAA",
          "CATTG",
          "ATTAA",
          "GACAC",
          "GAAGT",
          "CACAG",
          "GTATA",
          "CAGTA",
          "TGAAT",
          "CGAAA",
          "CCCGT",
          "CTTCA",
          "GTGGG",
          "GAAGG",
          "CACAA",
          "GCTAG",
          "AGCTC",
          "AGGCC",
          "GGAGG",
          "GCGGC",
          "TTCCC",
          "TTTTC",
          "AGAAA",
          "TTTGC",
          "ACAGG",
          "CAGCC",
          "ACTCA",
          "CAGCG",
          "GTTAC",
          "GAAGA",
          "CGCCG",
          "AACAC",
          "ACCCT",
          "GCCTC",
          "ATAAT",
          "TACAG",
          "AATTT",
          "CGGTC",
          "AAAGA",
          "GACTT",
          "CGAAG",
          "AACTC",
          "GCGTT",
          "ACCGA",
          "AGCCT",
          "TCCAG",
          "AAACA",
          "GATCT",
          "CACCG",
          "CGTGT",
          "TAGTA",
          "TTTAG",
          "CGAGG",
          "GCAGT",
          "AACGC",
          "GGGTG",
          "CTACC",
          "GGGGC",
          "TGACT",
          "AATGA",
          "ATGGT",
          "AAGGT",
          "ACGCT",
          "ATGTT",
          "GATGC",
          "AGATG",
          "CATCC",
          "GACGG",
          "AAACC",
          "ATAGC",
          "GTTTT",
          "AGTTG",
          "AAGAA",
          "TACTT",
          "CTACA",
          "TCGGC",
          "GCCCG",
          "ACCAA",
          "AAGAT",
          "GACGA",
          "ACGTT",
          "CAACC",
          "CAATC",
          "CTCGA",
          "ACCGT",
          "GGACT",
          "AATGT",
          "GCATT",
          "CTAGC",
          "CTTTC",
          "AGACC",
          "TTTTG",
          "TTAGC",
          "AGTAT",
          "CTCCC",
          "GATAT",
          "CTAAT",
          "AAATA",
          "ATTGG",
          "AAAAT",
          "TTTCT",
          "TCGTA",
          "ACTGT",
          "TCACC",
          "ACTCT",
          "GAGTA",
          "GTAGT",
          "ACTAC",
          "TTCTA",
          "ATGCT",
          "AGATC",
          "CAAGC",
          "CAAAA",
          "TAACC",
          "GCTTC",
          "CCTGC",
          "ATAAC",
          "GTCGG",
          "AGGCG",
          "CCGCG",
          "GAGTC",
          "GGCTG",
          "GTGCG",
          "AGGCA",
          "TCGCG",
          "CTTAC",
          "TGATG",
          "TTCGC",
          "TGAAA",
          "TACGA",
          "CCGCA",
          "GCAAG",
          "ACTAA",
          "GGACA",
          "TACTC",
          "GGTCC",
          "TTCTC",
          "AGATT",
          "GTGCC",
          "GGGTC",
          "AGCGG",
          "TTCCT",
          "CGTTG",
          "GGGAC",
          "CTTTA",
          "AAGAG",
          "ACTCC",
          "TCGGG",
          "GCTTA",
          "GGCTC",
          "TGATA",
          "CACGT",
          "CGGAA",
          "ACCCG",
          "GGCCA",
          "GTATG",
          "AAGCC",
          "CGGGA",
          "TCTTC",
          "AGCAT",
          "CTGAC",
          "ATAAA",
          "TAGCC",
          "AATTG",
          "GGCTT",
          "TCTGT",
          "GTAGA",
          "AGTGA",
          "ATTTA",
          "ATATC",
          "GCGTA",
          "GGGAG",
          "GGCCT",
          "GCGTG",
          "ACTGA",
          "TCCCC",
          "CAGCT",
          "CAGCA",
          "TCTCC",
          "ATGGC",
          "TAGTT",
          "GGAAG",
          "CCCGG",
          "GAGAC",
          "CCCAT",
          "CATCA",
          "CTCAC",
          "CGGGG",
          "GTCAT",
          "TAGGA",
          "TATAA",
          "CTCCG",
          "TAAAG",
          "ATCAG",
          "TTTCG",
          "TATGT",
          "GCCAA",
          "AAACG",
          "TCCTT",
          "TATGC",
          "GAGGC",
          "GGCCC",
          "TAAAA",
          "TCTAC",
          "TTGCA",
          "CTCTG",
          "TCTCT",
          "TCTAG",
          "CAGGG",
          "ACCAG",
          "GCTCC",
          "GCACT",
          "GAGTT",
          "GCCTA",
          "GAGCC",
          "CCGAG",
          "TGCGT",
          "AGTGT",
          "TCAAT",
          "TAGGC",
          "GGGTT",
          "TAACG",
          "CGGAT",
          "AGGAT",
          "TCGGA",
          "TTGAG",
          "CCCAA",
          "ATGCA",
          "CGTGC",
          "CTGAT",
          "CCGAC",
          "TATTT",
          "GTACC",
          "ATTGA",
          "TCAAA",
          "CCCTC",
          "GTTGT",
          "CCAGA",
          "GTCTC",
          "CTATT",
          "ATCCC",
          "AAAGT",
          "TAGTC",
          "TCGGT",
          "TTCTG",
          "CGGCA",
          "GGCAG",
          "GAATT",
          "TTACT",
          "TACGC",
          "TAAGC",
          "AGCAC",
          "TGCGC",
          "ACGCC",
          "CAATT",
          "CGTTC",
          "TGTAC",
          "TGTGG",
          "GACAA",
          "TGTTG",
          "AATCA",
          "ACATA",
          "TAGCT",
          "GCTGC",
          "CATTT",
          "TTAGG",
          "AAGTA",
          "GGAAT",
          "AAGAC",
          "GACGT",
          "AAGCA",
          "AGAGA",
          "AGTCA",
          "GGGCG",
          "ATATG",
          "GGAAC",
          "AGCCA",
          "TCTCA",
          "GTTCC",
          "ACCGC",
          "TGCTT",
          "AGACG",
          "GCGGA",
          "CTTCC",
          "GTCCG",
          "CACAT",
          "GCTCT",
          "TACAT",
          "ACACC",
          "CTGCC",
          "AACAT",
          "GATAA",
          "CGCGA",
          "CAAAG",
          "TCGAT",
          "AGTGC",
          "ATGAT",
          "ACGCA",
          "CTAAC",
          "GCACA",
          "CGGCT",
          "ATCAC",
          "TAAAC",
          "CACGA",
          "CCGGA",
          "CTGTA",
          "GTTGG",
          "CGAAT",
          "CTAGG",
          "AACAA",
          "GCGCC",
          "CCGTT",
          "GCATA",
          "TAGAT",
          "GGTGT",
          "GAACT",
          "CGCTA",
          "GTCTT",
          "ACTTA",
          "CTGCT",
          "CATCG",
          "CACTC",
          "CCTAG",
          "TGCCT",
          "GTAGC",
          "ACATG",
          "GGTGA",
          "GGACG",
          "AAATG",
          "ATTTT",
          "TGAGA",
          "ATCCT",
          "TATAG",
          "CTGCG",
          "AGTAC",
          "TCCTC",
          "TGCGG",
          "ATGTC",
          "ACCCC",
          "GTCCT",
          "CGGCG",
          "ACGTC",
          "CTTGA",
          "GTTTG",
          "AGAAT",
          "CATCT",
          "TGTGC",
          "AGGGC",
          "CAGAT",
          "GTTCT",
          "GTATC",
          "TCCGT",
          "GCATC",
          "ATACT",
          "GTTGC",
          "GATCC",
          "CCAAC",
          "TTTAC",
          "ACCCA",
          "GCGGT",
          "CTTAA",
          "ACTTC",
          "GATTA",
          "TTGAA",
          "TAGAC",
          "CCGAA",
          "GGTCA",
          "CTCGC",
          "TAGGT",
          "AAAGC",
          "GACCA",
          "GTGGC",
          "TGCCG",
          "ACCTG",
          "TAAGG",
          "GCTGT",
          "AGACA",
          "CGCTC",
          "GCATG",
          "CGCTG",
          "CAGAC",
          "ATGCG",
          "TTCTT",
          "AGTCT",
          "TTCCA",
          "CCATC",
          "GCCCT",
          "TACAA",
          "ACTGG",
          "GGACC",
          "CGTTT",
          "AGCTT",
          "GCTTT",
          "GTCAA",
          "TGTCT",
          "GTAAC",
          "CGTCC",
          "GCGAC",
          "TTCAG",
          "GTAAA",
          "GGATA",
          "GTACT",
          "CGACG",
          "ACTTG",
          "TCGCC",
          "TCGAC",
          "CTGAA",
          "GAAAT",
          "TTACG",
          "ACCGG",
          "CACGC",
          "TTAAG",
          "ATGAA",
          "CTCCT",
          "CGATT",
          "GGCAA",
          "CTGAG",
          "GCCAG",
          "CCAGG",
          "TCGCT",
          "CGCCA",
          "GTGAT",
          "ATCGG",
          "TTTCA",
          "AACCA",
          "ATGTG",
          "CGCGT",
          "TATGA",
          "TGTTC",
          "TACCG",
          "AGCCG",
          "CAAAC",
          "GTTCA",
          "GGGAA",
          "GATGA",
          "CTGCA",
          "ACAAC",
          "GGAGT",
          "CCGTA",
          "GCAGC",
          "ATGTA",
          "GTCAC",
          "TGCTG",
          "CTCTA",
          "AACCT",
          "GCGAG",
          "AGAAG",
          "TAGTG",
          "GAGGT",
          "AAAAA",
          "GTGGT",
          "GTCGA",
          "CCTCT",
          "GCAAT",
          "GATTG",
          "GGTAT",
          "ATAGA",
          "CCCCG",
          "AAGTG",
          "GGCAT",
          "TGCAG",
          "CTGGT",
          "GCTGA",
          "GCTCG",
          "CGGGC",
          "CGTGA",
          "AAGGC",
          "TAGAA",
          "TGCCC",
          "TGTAG",
          "TAAGA",
          "AAGTC",
          "CGAAC",
          "GGTTA",
          "TCACA",
          "TGGTC",
          "TGTGA",
          "GTGAC",
          "GCTAC",
          "AGGTA",
          "ACACA",
          "GCGCA",
          "CAGGA",
          "AGACT",
          "GAGGG",
          "ATTCG",
          "CGGAC",
          "CATTA",
          "CTACG",
          "AGGGA",
          "TCAAC",
          "CGGTA",
          "TTTCC",
          "GTTAT",
          "TAAAT",
          "TGAGT",
          "TTAGT",
          "CGAGT",
          "CAAGA",
          "TCGAA",
          "ACGCG",
          "ATCCG",
          "CTTCT",
          "CGATA",
          "CTCAG",
          "TAACT",
          "AGGTT",
          "CTCTT",
          "GCCCC",
          "ACGAC",
          "AGTAA",
          "TAATG",
          "ATTCA",
          "TGACA",
          "AAGTT",
          "CGCAC",
          "CGCCC",
          "ATGAG",
          "AGCCC",
          "TGGTG",
          "ATGCC",
          "TATTG",
          "AGAGC",
          "ATGGA",
          "GAAAA",
          "CTTAG",
          "GATTC",
          "ATACC",
          "TGACG",
          "GAAGC",
          "GCGAA",
          "CTCTC",
          "TGGCG",
          "CCTAT",
          "TTGGA",
          "TCCAT",
          "TATCA",
          "TCGTG",
          "GTTAA",
          "CTATC",
          "ATTAT",
          "GATAG",
          "GATTT",
          "TGGAT",
          "CAACT",
          "GTCCC",
          "GCTAA",
          "GTCTG",
          "TGGAC",
          "AGGGT",
          "AGGAC",
          "CAGTT",
          "AGAGT",
          "TCACT",
          "CCCGA",
          "AGCAG",
          "TTATC",
          "GCCTG",
          "TTATT",
          "CTTAT",
          "AGTTC",
          "AAGGG",
          "TTGGT",
          "TTGTG",
          "CCACT",
          "TCTGC",
          "GAGTG",
          "TATCT",
          "CGATG",
          "TTGCG",
          "CATGG",
          "ATAGT",
          "CGCGG",
          "GCCTT",
          "TCCGC",
          "ATTTG",
          "CAACA",
          "ACCAT",
          "GCGCT",
          "TGCTA",
          "TATAT",
          "GTTAG",
          "CTAAG",
          "GGGCA",
          "TGGTT",
          "CCTGT",
          "GGGCC",
          "TATCC",
          "GGCTA",
          "TCTTG",
          "AGTTT",
          "GGTTC",
          "AGAGG",
          "GAATG",
          "GTAAT",
          "AAGCG",
          "CCTTC",
          "TGTCC",
          "ACAGC",
          "TCATT",
          "GACTC",
          "TTCGT",
          "GTGCA",
          "CCCCC",
          "ATACG",
          "TTGCT",
          "GTATT",
          "TTAGA",
          "ATAGG",
          "AACGT",
          "CAGTC",
          "TTGTC",
          "CCCTT",
          "AGAAC",
          "TCCTA",
          "ATCTG",
          "CAGAG",
          "TGGCA",
          "GTGTT",
          "CCTAA",
          "CAGGC",
          "CTGGC",
          "GACGC",
          "GCGCG",
          "AGGGG",
          "TAACA",
          "GGAAA",
          "CCCGC",
          "ACGGA",
          "GTAGG",
          "GTCGC",
          "TCTGG",
          "TACAC",
          "TTCGG",
          "CCATA",
          "TGATC",
          "CGTGG",
          "ACCTT",
          "TGTAT",
          "GGTTT",
          "CAAGG",
          "AGTAG",
          "GAAAG",
          "TGATT",
          "TCCGA",
          "GACTG",
          "CGTAT",
          "ATTCT",
          "AAAGG",
          "ATCAA",
          "TTTTA",
          "TACCT",
          "TGAGG",
          "TAAGT",
          "ACTGC",
          "CGTCT",
          "GTGCT",
          "AGGAG",
          "CGGAG",
          "GAACC",
          "TGTAA",
          "GCAAC",
          "CGCAA",
          "TGGGA",
          "TTATG",
          "GCCAT",
          "CCTTT",
          "ACAAA",
          "GGTAG",
          "CATAG",
          "CCAGC",
          "CTTGG",
          "TACGT",
          "TTGCC",
          "TCATC",
          "GGGCT",
          "GAGAA",
          "ATTGC",
          "CTACT",
          "TTGAC",
          "GTGAA",
          "CAGAA",
          "ACGTG",
          "GGTGC",
          "CTCCA",
          "GATCA",
          "CACTT",
          "GCCGT",
          "CTAAA",
          "GCAAA",
          "TATCG",
          "TGGGC",
          "AGGCT",
          "AACTT",
          "TACCC",
          "CGCAG",
          "GGCCG",
          "GGATC",
          "AATCG",
          "CTCGG",
          "TCTGA",
          "TGCTC",
          "CGAGC",
          "TCGTT",
          "AACGG",
          "TCAGA",
          "CGCCT",
          "TGGGT",
          "TGCAT",
          "GCACG",
          "ACTCG",
          "GTACA",
          "CCACC",
          "CGCGC",
          "GAGCA",
          "AAGGA",
          "AATGC",
          "GCAGA",
          "CCTTA",
          "GACTA",
          "CGGCC",
          "TTCCG",
          "AGTCG"
         ],
         "y": [
          960,
          1032,
          976,
          1001,
          1005,
          999,
          986,
          1005,
          993,
          937,
          988,
          984,
          1002,
          989,
          999,
          991,
          981,
          917,
          968,
          977,
          956,
          946,
          950,
          1008,
          928,
          993,
          1021,
          959,
          983,
          963,
          982,
          965,
          993,
          1008,
          974,
          975,
          947,
          1000,
          952,
          1002,
          982,
          984,
          969,
          1000,
          956,
          936,
          972,
          935,
          975,
          1007,
          1009,
          987,
          945,
          999,
          978,
          974,
          951,
          965,
          988,
          1000,
          981,
          997,
          1026,
          991,
          975,
          915,
          972,
          954,
          993,
          945,
          964,
          1014,
          991,
          967,
          995,
          902,
          999,
          978,
          910,
          900,
          1004,
          984,
          923,
          1025,
          989,
          959,
          980,
          1001,
          929,
          1024,
          962,
          970,
          959,
          940,
          955,
          940,
          925,
          962,
          1062,
          981,
          975,
          984,
          965,
          973,
          1002,
          932,
          991,
          976,
          1003,
          969,
          972,
          992,
          993,
          986,
          927,
          915,
          962,
          967,
          1013,
          937,
          949,
          979,
          1022,
          1033,
          969,
          968,
          994,
          991,
          976,
          1018,
          964,
          1040,
          1043,
          968,
          946,
          932,
          981,
          949,
          937,
          924,
          994,
          950,
          928,
          1009,
          981,
          987,
          906,
          981,
          1058,
          1042,
          977,
          942,
          973,
          991,
          936,
          918,
          1002,
          933,
          955,
          1005,
          1006,
          966,
          994,
          996,
          965,
          928,
          976,
          961,
          986,
          1024,
          991,
          983,
          959,
          964,
          943,
          981,
          1011,
          984,
          910,
          969,
          970,
          962,
          1020,
          933,
          983,
          944,
          982,
          959,
          1003,
          943,
          928,
          960,
          991,
          968,
          1029,
          935,
          1013,
          982,
          999,
          958,
          976,
          988,
          958,
          1004,
          994,
          1005,
          990,
          1000,
          975,
          960,
          1007,
          974,
          989,
          958,
          1005,
          970,
          999,
          973,
          916,
          924,
          985,
          981,
          1004,
          930,
          945,
          982,
          946,
          981,
          984,
          1011,
          951,
          963,
          984,
          970,
          1001,
          932,
          994,
          1049,
          995,
          934,
          957,
          944,
          959,
          960,
          962,
          953,
          982,
          932,
          1027,
          979,
          927,
          969,
          944,
          975,
          969,
          951,
          1005,
          918,
          981,
          1042,
          985,
          964,
          1000,
          1038,
          918,
          978,
          974,
          972,
          979,
          980,
          1000,
          975,
          933,
          965,
          965,
          1039,
          987,
          993,
          931,
          1027,
          964,
          979,
          1071,
          964,
          967,
          974,
          933,
          1045,
          975,
          999,
          951,
          990,
          991,
          978,
          940,
          964,
          992,
          928,
          1000,
          1005,
          1008,
          941,
          965,
          945,
          1026,
          978,
          1018,
          1007,
          992,
          1022,
          967,
          999,
          979,
          1013,
          1003,
          982,
          990,
          974,
          1012,
          1002,
          1018,
          1023,
          954,
          932,
          944,
          898,
          915,
          1006,
          979,
          974,
          974,
          973,
          988,
          973,
          982,
          936,
          933,
          989,
          998,
          962,
          983,
          974,
          1013,
          1013,
          966,
          954,
          1001,
          1016,
          950,
          968,
          954,
          949,
          1016,
          998,
          1048,
          1022,
          1084,
          986,
          997,
          1006,
          1014,
          978,
          970,
          961,
          1007,
          975,
          992,
          947,
          1022,
          946,
          920,
          925,
          957,
          943,
          962,
          994,
          935,
          950,
          1038,
          997,
          942,
          935,
          1049,
          992,
          1025,
          935,
          957,
          972,
          906,
          955,
          958,
          984,
          1006,
          979,
          967,
          1009,
          1050,
          929,
          939,
          959,
          1027,
          940,
          982,
          946,
          932,
          1024,
          933,
          916,
          978,
          994,
          990,
          1028,
          928,
          964,
          974,
          952,
          972,
          964,
          987,
          969,
          993,
          1006,
          957,
          980,
          1004,
          968,
          976,
          1012,
          957,
          985,
          939,
          930,
          939,
          969,
          994,
          997,
          977,
          964,
          980,
          987,
          1046,
          1001,
          963,
          1009,
          940,
          1029,
          978,
          927,
          1017,
          962,
          1006,
          1008,
          994,
          1002,
          1002,
          1048,
          1046,
          954,
          978,
          1019,
          969,
          990,
          973,
          942,
          989,
          978,
          1001,
          992,
          968,
          929,
          978,
          970,
          1006,
          1005,
          1011,
          974,
          1033,
          993,
          960,
          909,
          1032,
          957,
          1022,
          986,
          956,
          960,
          953,
          946,
          1019,
          972,
          1012,
          901,
          956,
          942,
          957,
          978,
          929,
          997,
          923,
          985,
          999,
          1066,
          969,
          1000,
          1038,
          1006,
          1019,
          993,
          1025,
          1004,
          940,
          992,
          1006,
          1019,
          976,
          997,
          1029,
          980,
          996,
          933,
          994,
          1018,
          984,
          1015,
          986,
          981,
          981,
          963,
          979,
          1026,
          1002,
          931,
          955,
          959,
          975,
          959,
          955,
          960,
          980,
          1010,
          999,
          948,
          966,
          922,
          975,
          917,
          926,
          967,
          1010,
          973,
          964,
          908,
          1012,
          975,
          995,
          992,
          1005,
          997,
          1007,
          976,
          995,
          913,
          942,
          976,
          1027,
          992,
          992,
          935,
          940,
          988,
          967,
          951,
          979,
          911,
          913,
          985,
          982,
          949,
          969,
          1008,
          991,
          960,
          980,
          952,
          977,
          986,
          954,
          984,
          962,
          956,
          939,
          947,
          956,
          963,
          970,
          991,
          991,
          1014,
          985,
          976,
          977,
          959,
          981,
          946,
          993,
          1005,
          959,
          1003,
          1036,
          1019,
          969,
          945,
          923,
          1016,
          979,
          1030,
          975,
          977,
          1012,
          927,
          996,
          932,
          960,
          940,
          987,
          1050,
          988,
          1030,
          927,
          1033,
          989,
          961,
          1009,
          1013,
          969,
          930,
          972,
          994,
          977,
          937,
          950,
          1018,
          986,
          977,
          998,
          981,
          973,
          953,
          948,
          994,
          989,
          933,
          926,
          921,
          905,
          1003,
          1006,
          995,
          932,
          1002,
          948,
          1008,
          932,
          911,
          975,
          1019,
          964,
          1016,
          1038,
          955,
          995,
          944,
          979,
          905,
          989,
          1020,
          967,
          990,
          904,
          991,
          1030,
          967,
          1011,
          1004,
          1009,
          1010,
          961,
          940,
          1005,
          983,
          929,
          936,
          971,
          992,
          965,
          998,
          999,
          937,
          956,
          1062,
          959,
          961,
          983,
          922,
          993,
          971,
          990,
          971,
          969,
          948,
          990,
          989,
          956,
          1000,
          913,
          945,
          969,
          999,
          973,
          1002,
          964,
          979,
          958,
          975,
          989,
          1028,
          960,
          998,
          1039,
          986,
          987,
          970,
          1028,
          1002,
          987,
          1006,
          969,
          986,
          1011,
          1014,
          922,
          1001,
          974,
          1041,
          987,
          1045,
          1015,
          955,
          980,
          971,
          911,
          996,
          960,
          982,
          970,
          963,
          986,
          984,
          970,
          970,
          935,
          1021,
          977,
          1085,
          966,
          913,
          952,
          942,
          982,
          967,
          988,
          983,
          943,
          969,
          941,
          967,
          922,
          982,
          993,
          948,
          981,
          1016,
          1040,
          898,
          976,
          920,
          989,
          941,
          962,
          963,
          943,
          989,
          976,
          1005,
          975,
          952,
          987,
          972,
          969,
          987,
          1012,
          971,
          933,
          964,
          943,
          921,
          1014,
          975,
          995,
          977,
          953,
          956,
          983,
          936,
          1007,
          979,
          997,
          927,
          1001,
          935,
          1002,
          955,
          996,
          995,
          966,
          980,
          939,
          981,
          994,
          1039,
          964,
          989,
          982,
          972,
          926,
          1019,
          987,
          994,
          976,
          961,
          959,
          961,
          938,
          968,
          971,
          943,
          949,
          978,
          943,
          977,
          1015,
          949,
          968,
          968,
          947,
          976,
          960,
          954,
          1011,
          970,
          912,
          972,
          985,
          927,
          996,
          926,
          934,
          977,
          954,
          1005,
          982,
          961,
          966,
          949,
          985,
          963,
          987,
          989,
          975,
          948,
          1001,
          1007,
          956,
          999,
          972,
          984,
          997,
          1026,
          940,
          945,
          964,
          973,
          1040,
          976,
          995,
          962,
          915,
          992,
          956,
          990,
          972,
          977,
          1035,
          1009,
          999,
          979,
          1025,
          982,
          947,
          993,
          956,
          981,
          1019,
          1004,
          973,
          906,
          948,
          952,
          971,
          1014,
          979,
          969,
          948,
          937,
          964,
          995,
          946,
          1002,
          967,
          1006,
          949,
          978,
          989,
          909,
          967,
          955,
          1025,
          981,
          995,
          1014,
          966,
          978,
          956,
          973,
          914,
          954,
          975,
          1001,
          986,
          950,
          955,
          941,
          958,
          981,
          965,
          940,
          971,
          989,
          1048,
          986,
          990,
          982,
          1000,
          961,
          1012,
          942,
          968,
          958,
          1015,
          960,
          952,
          936,
          979,
          971,
          945,
          949,
          946,
          949,
          1028,
          966,
          1053,
          1006,
          967,
          994,
          995,
          941,
          1002,
          971,
          968,
          963,
          1011,
          936,
          999,
          986,
          945,
          973,
          999,
          1020,
          969,
          988,
          979,
          903,
          998,
          1030,
          1016,
          960,
          977,
          1008,
          1044,
          939,
          1005,
          990,
          955,
          1005,
          986,
          1017,
          1054,
          970,
          951,
          977,
          1000,
          1018,
          949,
          952
         ]
        }
       ],
       "layout": {
        "template": {
         "data": {
          "bar": [
           {
            "error_x": {
             "color": "#2a3f5f"
            },
            "error_y": {
             "color": "#2a3f5f"
            },
            "marker": {
             "line": {
              "color": "#E5ECF6",
              "width": 0.5
             },
             "pattern": {
              "fillmode": "overlay",
              "size": 10,
              "solidity": 0.2
             }
            },
            "type": "bar"
           }
          ],
          "barpolar": [
           {
            "marker": {
             "line": {
              "color": "#E5ECF6",
              "width": 0.5
             },
             "pattern": {
              "fillmode": "overlay",
              "size": 10,
              "solidity": 0.2
             }
            },
            "type": "barpolar"
           }
          ],
          "carpet": [
           {
            "aaxis": {
             "endlinecolor": "#2a3f5f",
             "gridcolor": "white",
             "linecolor": "white",
             "minorgridcolor": "white",
             "startlinecolor": "#2a3f5f"
            },
            "baxis": {
             "endlinecolor": "#2a3f5f",
             "gridcolor": "white",
             "linecolor": "white",
             "minorgridcolor": "white",
             "startlinecolor": "#2a3f5f"
            },
            "type": "carpet"
           }
          ],
          "choropleth": [
           {
            "colorbar": {
             "outlinewidth": 0,
             "ticks": ""
            },
            "type": "choropleth"
           }
          ],
          "contour": [
           {
            "colorbar": {
             "outlinewidth": 0,
             "ticks": ""
            },
            "colorscale": [
             [
              0,
              "#0d0887"
             ],
             [
              0.1111111111111111,
              "#46039f"
             ],
             [
              0.2222222222222222,
              "#7201a8"
             ],
             [
              0.3333333333333333,
              "#9c179e"
             ],
             [
              0.4444444444444444,
              "#bd3786"
             ],
             [
              0.5555555555555556,
              "#d8576b"
             ],
             [
              0.6666666666666666,
              "#ed7953"
             ],
             [
              0.7777777777777778,
              "#fb9f3a"
             ],
             [
              0.8888888888888888,
              "#fdca26"
             ],
             [
              1,
              "#f0f921"
             ]
            ],
            "type": "contour"
           }
          ],
          "contourcarpet": [
           {
            "colorbar": {
             "outlinewidth": 0,
             "ticks": ""
            },
            "type": "contourcarpet"
           }
          ],
          "heatmap": [
           {
            "colorbar": {
             "outlinewidth": 0,
             "ticks": ""
            },
            "colorscale": [
             [
              0,
              "#0d0887"
             ],
             [
              0.1111111111111111,
              "#46039f"
             ],
             [
              0.2222222222222222,
              "#7201a8"
             ],
             [
              0.3333333333333333,
              "#9c179e"
             ],
             [
              0.4444444444444444,
              "#bd3786"
             ],
             [
              0.5555555555555556,
              "#d8576b"
             ],
             [
              0.6666666666666666,
              "#ed7953"
             ],
             [
              0.7777777777777778,
              "#fb9f3a"
             ],
             [
              0.8888888888888888,
              "#fdca26"
             ],
             [
              1,
              "#f0f921"
             ]
            ],
            "type": "heatmap"
           }
          ],
          "heatmapgl": [
           {
            "colorbar": {
             "outlinewidth": 0,
             "ticks": ""
            },
            "colorscale": [
             [
              0,
              "#0d0887"
             ],
             [
              0.1111111111111111,
              "#46039f"
             ],
             [
              0.2222222222222222,
              "#7201a8"
             ],
             [
              0.3333333333333333,
              "#9c179e"
             ],
             [
              0.4444444444444444,
              "#bd3786"
             ],
             [
              0.5555555555555556,
              "#d8576b"
             ],
             [
              0.6666666666666666,
              "#ed7953"
             ],
             [
              0.7777777777777778,
              "#fb9f3a"
             ],
             [
              0.8888888888888888,
              "#fdca26"
             ],
             [
              1,
              "#f0f921"
             ]
            ],
            "type": "heatmapgl"
           }
          ],
          "histogram": [
           {
            "marker": {
             "pattern": {
              "fillmode": "overlay",
              "size": 10,
              "solidity": 0.2
             }
            },
            "type": "histogram"
           }
          ],
          "histogram2d": [
           {
            "colorbar": {
             "outlinewidth": 0,
             "ticks": ""
            },
            "colorscale": [
             [
              0,
              "#0d0887"
             ],
             [
              0.1111111111111111,
              "#46039f"
             ],
             [
              0.2222222222222222,
              "#7201a8"
             ],
             [
              0.3333333333333333,
              "#9c179e"
             ],
             [
              0.4444444444444444,
              "#bd3786"
             ],
             [
              0.5555555555555556,
              "#d8576b"
             ],
             [
              0.6666666666666666,
              "#ed7953"
             ],
             [
              0.7777777777777778,
              "#fb9f3a"
             ],
             [
              0.8888888888888888,
              "#fdca26"
             ],
             [
              1,
              "#f0f921"
             ]
            ],
            "type": "histogram2d"
           }
          ],
          "histogram2dcontour": [
           {
            "colorbar": {
             "outlinewidth": 0,
             "ticks": ""
            },
            "colorscale": [
             [
              0,
              "#0d0887"
             ],
             [
              0.1111111111111111,
              "#46039f"
             ],
             [
              0.2222222222222222,
              "#7201a8"
             ],
             [
              0.3333333333333333,
              "#9c179e"
             ],
             [
              0.4444444444444444,
              "#bd3786"
             ],
             [
              0.5555555555555556,
              "#d8576b"
             ],
             [
              0.6666666666666666,
              "#ed7953"
             ],
             [
              0.7777777777777778,
              "#fb9f3a"
             ],
             [
              0.8888888888888888,
              "#fdca26"
             ],
             [
              1,
              "#f0f921"
             ]
            ],
            "type": "histogram2dcontour"
           }
          ],
          "mesh3d": [
           {
            "colorbar": {
             "outlinewidth": 0,
             "ticks": ""
            },
            "type": "mesh3d"
           }
          ],
          "parcoords": [
           {
            "line": {
             "colorbar": {
              "outlinewidth": 0,
              "ticks": ""
             }
            },
            "type": "parcoords"
           }
          ],
          "pie": [
           {
            "automargin": true,
            "type": "pie"
           }
          ],
          "scatter": [
           {
            "fillpattern": {
             "fillmode": "overlay",
             "size": 10,
             "solidity": 0.2
            },
            "type": "scatter"
           }
          ],
          "scatter3d": [
           {
            "line": {
             "colorbar": {
              "outlinewidth": 0,
              "ticks": ""
             }
            },
            "marker": {
             "colorbar": {
              "outlinewidth": 0,
              "ticks": ""
             }
            },
            "type": "scatter3d"
           }
          ],
          "scattercarpet": [
           {
            "marker": {
             "colorbar": {
              "outlinewidth": 0,
              "ticks": ""
             }
            },
            "type": "scattercarpet"
           }
          ],
          "scattergeo": [
           {
            "marker": {
             "colorbar": {
              "outlinewidth": 0,
              "ticks": ""
             }
            },
            "type": "scattergeo"
           }
          ],
          "scattergl": [
           {
            "marker": {
             "colorbar": {
              "outlinewidth": 0,
              "ticks": ""
             }
            },
            "type": "scattergl"
           }
          ],
          "scattermapbox": [
           {
            "marker": {
             "colorbar": {
              "outlinewidth": 0,
              "ticks": ""
             }
            },
            "type": "scattermapbox"
           }
          ],
          "scatterpolar": [
           {
            "marker": {
             "colorbar": {
              "outlinewidth": 0,
              "ticks": ""
             }
            },
            "type": "scatterpolar"
           }
          ],
          "scatterpolargl": [
           {
            "marker": {
             "colorbar": {
              "outlinewidth": 0,
              "ticks": ""
             }
            },
            "type": "scatterpolargl"
           }
          ],
          "scatterternary": [
           {
            "marker": {
             "colorbar": {
              "outlinewidth": 0,
              "ticks": ""
             }
            },
            "type": "scatterternary"
           }
          ],
          "surface": [
           {
            "colorbar": {
             "outlinewidth": 0,
             "ticks": ""
            },
            "colorscale": [
             [
              0,
              "#0d0887"
             ],
             [
              0.1111111111111111,
              "#46039f"
             ],
             [
              0.2222222222222222,
              "#7201a8"
             ],
             [
              0.3333333333333333,
              "#9c179e"
             ],
             [
              0.4444444444444444,
              "#bd3786"
             ],
             [
              0.5555555555555556,
              "#d8576b"
             ],
             [
              0.6666666666666666,
              "#ed7953"
             ],
             [
              0.7777777777777778,
              "#fb9f3a"
             ],
             [
              0.8888888888888888,
              "#fdca26"
             ],
             [
              1,
              "#f0f921"
             ]
            ],
            "type": "surface"
           }
          ],
          "table": [
           {
            "cells": {
             "fill": {
              "color": "#EBF0F8"
             },
             "line": {
              "color": "white"
             }
            },
            "header": {
             "fill": {
              "color": "#C8D4E3"
             },
             "line": {
              "color": "white"
             }
            },
            "type": "table"
           }
          ]
         },
         "layout": {
          "annotationdefaults": {
           "arrowcolor": "#2a3f5f",
           "arrowhead": 0,
           "arrowwidth": 1
          },
          "autotypenumbers": "strict",
          "coloraxis": {
           "colorbar": {
            "outlinewidth": 0,
            "ticks": ""
           }
          },
          "colorscale": {
           "diverging": [
            [
             0,
             "#8e0152"
            ],
            [
             0.1,
             "#c51b7d"
            ],
            [
             0.2,
             "#de77ae"
            ],
            [
             0.3,
             "#f1b6da"
            ],
            [
             0.4,
             "#fde0ef"
            ],
            [
             0.5,
             "#f7f7f7"
            ],
            [
             0.6,
             "#e6f5d0"
            ],
            [
             0.7,
             "#b8e186"
            ],
            [
             0.8,
             "#7fbc41"
            ],
            [
             0.9,
             "#4d9221"
            ],
            [
             1,
             "#276419"
            ]
           ],
           "sequential": [
            [
             0,
             "#0d0887"
            ],
            [
             0.1111111111111111,
             "#46039f"
            ],
            [
             0.2222222222222222,
             "#7201a8"
            ],
            [
             0.3333333333333333,
             "#9c179e"
            ],
            [
             0.4444444444444444,
             "#bd3786"
            ],
            [
             0.5555555555555556,
             "#d8576b"
            ],
            [
             0.6666666666666666,
             "#ed7953"
            ],
            [
             0.7777777777777778,
             "#fb9f3a"
            ],
            [
             0.8888888888888888,
             "#fdca26"
            ],
            [
             1,
             "#f0f921"
            ]
           ],
           "sequentialminus": [
            [
             0,
             "#0d0887"
            ],
            [
             0.1111111111111111,
             "#46039f"
            ],
            [
             0.2222222222222222,
             "#7201a8"
            ],
            [
             0.3333333333333333,
             "#9c179e"
            ],
            [
             0.4444444444444444,
             "#bd3786"
            ],
            [
             0.5555555555555556,
             "#d8576b"
            ],
            [
             0.6666666666666666,
             "#ed7953"
            ],
            [
             0.7777777777777778,
             "#fb9f3a"
            ],
            [
             0.8888888888888888,
             "#fdca26"
            ],
            [
             1,
             "#f0f921"
            ]
           ]
          },
          "colorway": [
           "#636efa",
           "#EF553B",
           "#00cc96",
           "#ab63fa",
           "#FFA15A",
           "#19d3f3",
           "#FF6692",
           "#B6E880",
           "#FF97FF",
           "#FECB52"
          ],
          "font": {
           "color": "#2a3f5f"
          },
          "geo": {
           "bgcolor": "white",
           "lakecolor": "white",
           "landcolor": "#E5ECF6",
           "showlakes": true,
           "showland": true,
           "subunitcolor": "white"
          },
          "hoverlabel": {
           "align": "left"
          },
          "hovermode": "closest",
          "mapbox": {
           "style": "light"
          },
          "paper_bgcolor": "white",
          "plot_bgcolor": "#E5ECF6",
          "polar": {
           "angularaxis": {
            "gridcolor": "white",
            "linecolor": "white",
            "ticks": ""
           },
           "bgcolor": "#E5ECF6",
           "radialaxis": {
            "gridcolor": "white",
            "linecolor": "white",
            "ticks": ""
           }
          },
          "scene": {
           "xaxis": {
            "backgroundcolor": "#E5ECF6",
            "gridcolor": "white",
            "gridwidth": 2,
            "linecolor": "white",
            "showbackground": true,
            "ticks": "",
            "zerolinecolor": "white"
           },
           "yaxis": {
            "backgroundcolor": "#E5ECF6",
            "gridcolor": "white",
            "gridwidth": 2,
            "linecolor": "white",
            "showbackground": true,
            "ticks": "",
            "zerolinecolor": "white"
           },
           "zaxis": {
            "backgroundcolor": "#E5ECF6",
            "gridcolor": "white",
            "gridwidth": 2,
            "linecolor": "white",
            "showbackground": true,
            "ticks": "",
            "zerolinecolor": "white"
           }
          },
          "shapedefaults": {
           "line": {
            "color": "#2a3f5f"
           }
          },
          "ternary": {
           "aaxis": {
            "gridcolor": "white",
            "linecolor": "white",
            "ticks": ""
           },
           "baxis": {
            "gridcolor": "white",
            "linecolor": "white",
            "ticks": ""
           },
           "bgcolor": "#E5ECF6",
           "caxis": {
            "gridcolor": "white",
            "linecolor": "white",
            "ticks": ""
           }
          },
          "title": {
           "x": 0.05
          },
          "xaxis": {
           "automargin": true,
           "gridcolor": "white",
           "linecolor": "white",
           "ticks": "",
           "title": {
            "standoff": 15
           },
           "zerolinecolor": "white",
           "zerolinewidth": 2
          },
          "yaxis": {
           "automargin": true,
           "gridcolor": "white",
           "linecolor": "white",
           "ticks": "",
           "title": {
            "standoff": 15
           },
           "zerolinecolor": "white",
           "zerolinewidth": 2
          }
         }
        },
        "title": {
         "text": "1024 Kmer Distribution for 5-mers"
        },
        "xaxis": {
         "title": {
          "text": "Kmer"
         }
        },
        "yaxis": {
         "title": {
          "text": "Count"
         }
        }
       }
      }
     },
     "metadata": {},
     "output_type": "display_data"
    },
    {
     "name": "stdout",
     "output_type": "stream",
     "text": [
      "No unique k-mers found\n",
      "Most common 10% kmers: \n"
     ]
    },
    {
     "data": {
      "application/vnd.plotly.v1+json": {
       "config": {
        "plotlyServerURL": "https://plot.ly"
       },
       "data": [
        {
         "type": "bar",
         "x": [
          "GCTGA",
          "GGGTG",
          "GGGGT",
          "GAGGC",
          "AATGG",
          "TTCAG",
          "CCAAT",
          "AAGGA",
          "TTGAC",
          "GATAT",
          "GTAGC",
          "GAGCG",
          "CAACC",
          "GCAGT",
          "GGCCA",
          "AGGAG",
          "GGGTC",
          "GTATG",
          "ATCTA",
          "AACCT",
          "TGGGT",
          "TCTCG",
          "TTTGA",
          "CCTTG",
          "TGCTG",
          "CTAGA",
          "GCGCA",
          "GGTTC",
          "CATGT",
          "TATGA",
          "TGACG",
          "ATGAC",
          "ACCAA",
          "TCTAC",
          "CTCGC",
          "CGAAT",
          "TTCGT",
          "ATGGG",
          "TCCCC",
          "AAATG",
          "TTTGT",
          "ATGGC",
          "GGTGT",
          "GGTGA",
          "CGCTG",
          "CGAGC",
          "GAGAT",
          "CTTTA",
          "CCGAG",
          "AGATC",
          "AACCA",
          "CAAAC",
          "ATTGC",
          "TCATG",
          "TGAGC",
          "AAAAT",
          "GCTGC",
          "GCAGG",
          "GACAC",
          "CGTGC",
          "GGGCC",
          "AGCTG",
          "CTCGA",
          "TCTAG",
          "TTGCT",
          "TGATC",
          "GCACC",
          "CTGTG",
          "ACTCT",
          "TTCCC",
          "TGACC",
          "TGAAT",
          "AACGC",
          "GACGG",
          "GGAAG",
          "AGTTA",
          "TGCAG",
          "AATCT",
          "TAAGG",
          "GGCCG",
          "TCTTC",
          "CGGGG",
          "CTCTG",
          "GAGTT",
          "CTAGG",
          "TAGAC",
          "TTGGA",
          "TTGTC",
          "CGAGA",
          "CACAG",
          "GCGGC",
          "GGGTT",
          "CGGCG",
          "CGGCC",
          "TCGGG",
          "GAGCA",
          "AAACA",
          "TTTAG",
          "GCATA",
          "GGTCA",
          "ACACA",
          "TCGTT"
         ],
         "y": [
          1085,
          1084,
          1071,
          1066,
          1062,
          1062,
          1058,
          1054,
          1053,
          1050,
          1050,
          1049,
          1049,
          1048,
          1048,
          1048,
          1046,
          1046,
          1045,
          1045,
          1044,
          1043,
          1042,
          1042,
          1041,
          1040,
          1040,
          1040,
          1039,
          1039,
          1039,
          1038,
          1038,
          1038,
          1038,
          1036,
          1035,
          1033,
          1033,
          1033,
          1032,
          1032,
          1030,
          1030,
          1030,
          1030,
          1029,
          1029,
          1029,
          1028,
          1028,
          1028,
          1028,
          1027,
          1027,
          1027,
          1027,
          1026,
          1026,
          1026,
          1026,
          1025,
          1025,
          1025,
          1025,
          1025,
          1024,
          1024,
          1024,
          1023,
          1022,
          1022,
          1022,
          1022,
          1022,
          1021,
          1021,
          1020,
          1020,
          1020,
          1019,
          1019,
          1019,
          1019,
          1019,
          1019,
          1019,
          1019,
          1018,
          1018,
          1018,
          1018,
          1018,
          1018,
          1017,
          1017,
          1016,
          1016,
          1016,
          1016,
          1016,
          1016
         ]
        }
       ],
       "layout": {
        "template": {
         "data": {
          "bar": [
           {
            "error_x": {
             "color": "#2a3f5f"
            },
            "error_y": {
             "color": "#2a3f5f"
            },
            "marker": {
             "line": {
              "color": "#E5ECF6",
              "width": 0.5
             },
             "pattern": {
              "fillmode": "overlay",
              "size": 10,
              "solidity": 0.2
             }
            },
            "type": "bar"
           }
          ],
          "barpolar": [
           {
            "marker": {
             "line": {
              "color": "#E5ECF6",
              "width": 0.5
             },
             "pattern": {
              "fillmode": "overlay",
              "size": 10,
              "solidity": 0.2
             }
            },
            "type": "barpolar"
           }
          ],
          "carpet": [
           {
            "aaxis": {
             "endlinecolor": "#2a3f5f",
             "gridcolor": "white",
             "linecolor": "white",
             "minorgridcolor": "white",
             "startlinecolor": "#2a3f5f"
            },
            "baxis": {
             "endlinecolor": "#2a3f5f",
             "gridcolor": "white",
             "linecolor": "white",
             "minorgridcolor": "white",
             "startlinecolor": "#2a3f5f"
            },
            "type": "carpet"
           }
          ],
          "choropleth": [
           {
            "colorbar": {
             "outlinewidth": 0,
             "ticks": ""
            },
            "type": "choropleth"
           }
          ],
          "contour": [
           {
            "colorbar": {
             "outlinewidth": 0,
             "ticks": ""
            },
            "colorscale": [
             [
              0,
              "#0d0887"
             ],
             [
              0.1111111111111111,
              "#46039f"
             ],
             [
              0.2222222222222222,
              "#7201a8"
             ],
             [
              0.3333333333333333,
              "#9c179e"
             ],
             [
              0.4444444444444444,
              "#bd3786"
             ],
             [
              0.5555555555555556,
              "#d8576b"
             ],
             [
              0.6666666666666666,
              "#ed7953"
             ],
             [
              0.7777777777777778,
              "#fb9f3a"
             ],
             [
              0.8888888888888888,
              "#fdca26"
             ],
             [
              1,
              "#f0f921"
             ]
            ],
            "type": "contour"
           }
          ],
          "contourcarpet": [
           {
            "colorbar": {
             "outlinewidth": 0,
             "ticks": ""
            },
            "type": "contourcarpet"
           }
          ],
          "heatmap": [
           {
            "colorbar": {
             "outlinewidth": 0,
             "ticks": ""
            },
            "colorscale": [
             [
              0,
              "#0d0887"
             ],
             [
              0.1111111111111111,
              "#46039f"
             ],
             [
              0.2222222222222222,
              "#7201a8"
             ],
             [
              0.3333333333333333,
              "#9c179e"
             ],
             [
              0.4444444444444444,
              "#bd3786"
             ],
             [
              0.5555555555555556,
              "#d8576b"
             ],
             [
              0.6666666666666666,
              "#ed7953"
             ],
             [
              0.7777777777777778,
              "#fb9f3a"
             ],
             [
              0.8888888888888888,
              "#fdca26"
             ],
             [
              1,
              "#f0f921"
             ]
            ],
            "type": "heatmap"
           }
          ],
          "heatmapgl": [
           {
            "colorbar": {
             "outlinewidth": 0,
             "ticks": ""
            },
            "colorscale": [
             [
              0,
              "#0d0887"
             ],
             [
              0.1111111111111111,
              "#46039f"
             ],
             [
              0.2222222222222222,
              "#7201a8"
             ],
             [
              0.3333333333333333,
              "#9c179e"
             ],
             [
              0.4444444444444444,
              "#bd3786"
             ],
             [
              0.5555555555555556,
              "#d8576b"
             ],
             [
              0.6666666666666666,
              "#ed7953"
             ],
             [
              0.7777777777777778,
              "#fb9f3a"
             ],
             [
              0.8888888888888888,
              "#fdca26"
             ],
             [
              1,
              "#f0f921"
             ]
            ],
            "type": "heatmapgl"
           }
          ],
          "histogram": [
           {
            "marker": {
             "pattern": {
              "fillmode": "overlay",
              "size": 10,
              "solidity": 0.2
             }
            },
            "type": "histogram"
           }
          ],
          "histogram2d": [
           {
            "colorbar": {
             "outlinewidth": 0,
             "ticks": ""
            },
            "colorscale": [
             [
              0,
              "#0d0887"
             ],
             [
              0.1111111111111111,
              "#46039f"
             ],
             [
              0.2222222222222222,
              "#7201a8"
             ],
             [
              0.3333333333333333,
              "#9c179e"
             ],
             [
              0.4444444444444444,
              "#bd3786"
             ],
             [
              0.5555555555555556,
              "#d8576b"
             ],
             [
              0.6666666666666666,
              "#ed7953"
             ],
             [
              0.7777777777777778,
              "#fb9f3a"
             ],
             [
              0.8888888888888888,
              "#fdca26"
             ],
             [
              1,
              "#f0f921"
             ]
            ],
            "type": "histogram2d"
           }
          ],
          "histogram2dcontour": [
           {
            "colorbar": {
             "outlinewidth": 0,
             "ticks": ""
            },
            "colorscale": [
             [
              0,
              "#0d0887"
             ],
             [
              0.1111111111111111,
              "#46039f"
             ],
             [
              0.2222222222222222,
              "#7201a8"
             ],
             [
              0.3333333333333333,
              "#9c179e"
             ],
             [
              0.4444444444444444,
              "#bd3786"
             ],
             [
              0.5555555555555556,
              "#d8576b"
             ],
             [
              0.6666666666666666,
              "#ed7953"
             ],
             [
              0.7777777777777778,
              "#fb9f3a"
             ],
             [
              0.8888888888888888,
              "#fdca26"
             ],
             [
              1,
              "#f0f921"
             ]
            ],
            "type": "histogram2dcontour"
           }
          ],
          "mesh3d": [
           {
            "colorbar": {
             "outlinewidth": 0,
             "ticks": ""
            },
            "type": "mesh3d"
           }
          ],
          "parcoords": [
           {
            "line": {
             "colorbar": {
              "outlinewidth": 0,
              "ticks": ""
             }
            },
            "type": "parcoords"
           }
          ],
          "pie": [
           {
            "automargin": true,
            "type": "pie"
           }
          ],
          "scatter": [
           {
            "fillpattern": {
             "fillmode": "overlay",
             "size": 10,
             "solidity": 0.2
            },
            "type": "scatter"
           }
          ],
          "scatter3d": [
           {
            "line": {
             "colorbar": {
              "outlinewidth": 0,
              "ticks": ""
             }
            },
            "marker": {
             "colorbar": {
              "outlinewidth": 0,
              "ticks": ""
             }
            },
            "type": "scatter3d"
           }
          ],
          "scattercarpet": [
           {
            "marker": {
             "colorbar": {
              "outlinewidth": 0,
              "ticks": ""
             }
            },
            "type": "scattercarpet"
           }
          ],
          "scattergeo": [
           {
            "marker": {
             "colorbar": {
              "outlinewidth": 0,
              "ticks": ""
             }
            },
            "type": "scattergeo"
           }
          ],
          "scattergl": [
           {
            "marker": {
             "colorbar": {
              "outlinewidth": 0,
              "ticks": ""
             }
            },
            "type": "scattergl"
           }
          ],
          "scattermapbox": [
           {
            "marker": {
             "colorbar": {
              "outlinewidth": 0,
              "ticks": ""
             }
            },
            "type": "scattermapbox"
           }
          ],
          "scatterpolar": [
           {
            "marker": {
             "colorbar": {
              "outlinewidth": 0,
              "ticks": ""
             }
            },
            "type": "scatterpolar"
           }
          ],
          "scatterpolargl": [
           {
            "marker": {
             "colorbar": {
              "outlinewidth": 0,
              "ticks": ""
             }
            },
            "type": "scatterpolargl"
           }
          ],
          "scatterternary": [
           {
            "marker": {
             "colorbar": {
              "outlinewidth": 0,
              "ticks": ""
             }
            },
            "type": "scatterternary"
           }
          ],
          "surface": [
           {
            "colorbar": {
             "outlinewidth": 0,
             "ticks": ""
            },
            "colorscale": [
             [
              0,
              "#0d0887"
             ],
             [
              0.1111111111111111,
              "#46039f"
             ],
             [
              0.2222222222222222,
              "#7201a8"
             ],
             [
              0.3333333333333333,
              "#9c179e"
             ],
             [
              0.4444444444444444,
              "#bd3786"
             ],
             [
              0.5555555555555556,
              "#d8576b"
             ],
             [
              0.6666666666666666,
              "#ed7953"
             ],
             [
              0.7777777777777778,
              "#fb9f3a"
             ],
             [
              0.8888888888888888,
              "#fdca26"
             ],
             [
              1,
              "#f0f921"
             ]
            ],
            "type": "surface"
           }
          ],
          "table": [
           {
            "cells": {
             "fill": {
              "color": "#EBF0F8"
             },
             "line": {
              "color": "white"
             }
            },
            "header": {
             "fill": {
              "color": "#C8D4E3"
             },
             "line": {
              "color": "white"
             }
            },
            "type": "table"
           }
          ]
         },
         "layout": {
          "annotationdefaults": {
           "arrowcolor": "#2a3f5f",
           "arrowhead": 0,
           "arrowwidth": 1
          },
          "autotypenumbers": "strict",
          "coloraxis": {
           "colorbar": {
            "outlinewidth": 0,
            "ticks": ""
           }
          },
          "colorscale": {
           "diverging": [
            [
             0,
             "#8e0152"
            ],
            [
             0.1,
             "#c51b7d"
            ],
            [
             0.2,
             "#de77ae"
            ],
            [
             0.3,
             "#f1b6da"
            ],
            [
             0.4,
             "#fde0ef"
            ],
            [
             0.5,
             "#f7f7f7"
            ],
            [
             0.6,
             "#e6f5d0"
            ],
            [
             0.7,
             "#b8e186"
            ],
            [
             0.8,
             "#7fbc41"
            ],
            [
             0.9,
             "#4d9221"
            ],
            [
             1,
             "#276419"
            ]
           ],
           "sequential": [
            [
             0,
             "#0d0887"
            ],
            [
             0.1111111111111111,
             "#46039f"
            ],
            [
             0.2222222222222222,
             "#7201a8"
            ],
            [
             0.3333333333333333,
             "#9c179e"
            ],
            [
             0.4444444444444444,
             "#bd3786"
            ],
            [
             0.5555555555555556,
             "#d8576b"
            ],
            [
             0.6666666666666666,
             "#ed7953"
            ],
            [
             0.7777777777777778,
             "#fb9f3a"
            ],
            [
             0.8888888888888888,
             "#fdca26"
            ],
            [
             1,
             "#f0f921"
            ]
           ],
           "sequentialminus": [
            [
             0,
             "#0d0887"
            ],
            [
             0.1111111111111111,
             "#46039f"
            ],
            [
             0.2222222222222222,
             "#7201a8"
            ],
            [
             0.3333333333333333,
             "#9c179e"
            ],
            [
             0.4444444444444444,
             "#bd3786"
            ],
            [
             0.5555555555555556,
             "#d8576b"
            ],
            [
             0.6666666666666666,
             "#ed7953"
            ],
            [
             0.7777777777777778,
             "#fb9f3a"
            ],
            [
             0.8888888888888888,
             "#fdca26"
            ],
            [
             1,
             "#f0f921"
            ]
           ]
          },
          "colorway": [
           "#636efa",
           "#EF553B",
           "#00cc96",
           "#ab63fa",
           "#FFA15A",
           "#19d3f3",
           "#FF6692",
           "#B6E880",
           "#FF97FF",
           "#FECB52"
          ],
          "font": {
           "color": "#2a3f5f"
          },
          "geo": {
           "bgcolor": "white",
           "lakecolor": "white",
           "landcolor": "#E5ECF6",
           "showlakes": true,
           "showland": true,
           "subunitcolor": "white"
          },
          "hoverlabel": {
           "align": "left"
          },
          "hovermode": "closest",
          "mapbox": {
           "style": "light"
          },
          "paper_bgcolor": "white",
          "plot_bgcolor": "#E5ECF6",
          "polar": {
           "angularaxis": {
            "gridcolor": "white",
            "linecolor": "white",
            "ticks": ""
           },
           "bgcolor": "#E5ECF6",
           "radialaxis": {
            "gridcolor": "white",
            "linecolor": "white",
            "ticks": ""
           }
          },
          "scene": {
           "xaxis": {
            "backgroundcolor": "#E5ECF6",
            "gridcolor": "white",
            "gridwidth": 2,
            "linecolor": "white",
            "showbackground": true,
            "ticks": "",
            "zerolinecolor": "white"
           },
           "yaxis": {
            "backgroundcolor": "#E5ECF6",
            "gridcolor": "white",
            "gridwidth": 2,
            "linecolor": "white",
            "showbackground": true,
            "ticks": "",
            "zerolinecolor": "white"
           },
           "zaxis": {
            "backgroundcolor": "#E5ECF6",
            "gridcolor": "white",
            "gridwidth": 2,
            "linecolor": "white",
            "showbackground": true,
            "ticks": "",
            "zerolinecolor": "white"
           }
          },
          "shapedefaults": {
           "line": {
            "color": "#2a3f5f"
           }
          },
          "ternary": {
           "aaxis": {
            "gridcolor": "white",
            "linecolor": "white",
            "ticks": ""
           },
           "baxis": {
            "gridcolor": "white",
            "linecolor": "white",
            "ticks": ""
           },
           "bgcolor": "#E5ECF6",
           "caxis": {
            "gridcolor": "white",
            "linecolor": "white",
            "ticks": ""
           }
          },
          "title": {
           "x": 0.05
          },
          "xaxis": {
           "automargin": true,
           "gridcolor": "white",
           "linecolor": "white",
           "ticks": "",
           "title": {
            "standoff": 15
           },
           "zerolinecolor": "white",
           "zerolinewidth": 2
          },
          "yaxis": {
           "automargin": true,
           "gridcolor": "white",
           "linecolor": "white",
           "ticks": "",
           "title": {
            "standoff": 15
           },
           "zerolinecolor": "white",
           "zerolinewidth": 2
          }
         }
        },
        "title": {
         "text": "102 Kmer Distribution for 5-mers"
        },
        "xaxis": {
         "title": {
          "text": "Kmer"
         }
        },
        "yaxis": {
         "title": {
          "text": "Count"
         }
        }
       }
      }
     },
     "metadata": {},
     "output_type": "display_data"
    }
   ],
   "source": [
    "def main():\n",
    "    test_hash_table(dna_string, dna_len, kmer_size)\n",
    "    # # uncomment if you would like to enter your own values \n",
    "    # test_hash_table(None, None, None)\n",
    "\n",
    "main()"
   ]
  }
 ],
 "metadata": {
  "kernelspec": {
   "display_name": "Python 3.10.8 64-bit",
   "language": "python",
   "name": "python3"
  },
  "language_info": {
   "codemirror_mode": {
    "name": "ipython",
    "version": 3
   },
   "file_extension": ".py",
   "mimetype": "text/x-python",
   "name": "python",
   "nbconvert_exporter": "python",
   "pygments_lexer": "ipython3",
   "version": "3.10.8"
  },
  "orig_nbformat": 4,
  "vscode": {
   "interpreter": {
    "hash": "b0fa6594d8f4cbf19f97940f81e996739fb7646882a419484c72d19e05852a7e"
   }
  }
 },
 "nbformat": 4,
 "nbformat_minor": 2
}
