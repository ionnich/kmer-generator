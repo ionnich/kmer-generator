{
 "cells": [
  {
   "cell_type": "code",
   "execution_count": 74,
   "metadata": {},
   "outputs": [
    {
     "name": "stdout",
     "output_type": "stream",
     "text": [
      "generate k-mers\n"
     ]
    }
   ],
   "source": [
    "print(\"generate k-mers\")\n",
    "\n",
    "dna_sequence = \"ACGTA\"\n",
    "KMER = 3\n",
    "PIVOT = 0"
   ]
  },
  {
   "cell_type": "code",
   "execution_count": 79,
   "metadata": {},
   "outputs": [],
   "source": [
    "# this function is a recursive function that imitates the factorial operation\n",
    "def generate_kmers(dna_sequence, k, pivot):\n",
    "\n",
    "    kmers = []\n",
    "    def generate(kmers, dna_sequence, k, pivot):\n",
    "        if(len(dna_sequence) < k):\n",
    "            return kmers\n",
    "\n",
    "        candidate = dna_sequence[pivot:pivot+k]\n",
    "        kmers.append(candidate)\n",
    "\n",
    "        return generate(kmers, dna_sequence[1:], k, pivot)\n",
    "\n",
    "    return generate(kmers, dna_sequence, k, pivot)"
   ]
  }
 ],
 "metadata": {
  "kernelspec": {
   "display_name": "Python 3.10.8 64-bit",
   "language": "python",
   "name": "python3"
  },
  "language_info": {
   "codemirror_mode": {
    "name": "ipython",
    "version": 3
   },
   "file_extension": ".py",
   "mimetype": "text/x-python",
   "name": "python",
   "nbconvert_exporter": "python",
   "pygments_lexer": "ipython3",
   "version": "3.10.8"
  },
  "orig_nbformat": 4,
  "vscode": {
   "interpreter": {
    "hash": "b0fa6594d8f4cbf19f97940f81e996739fb7646882a419484c72d19e05852a7e"
   }
  }
 },
 "nbformat": 4,
 "nbformat_minor": 2
}
